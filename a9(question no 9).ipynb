{
 "cells": [
  {
   "cell_type": "code",
   "execution_count": 6,
   "id": "8b6f8a22",
   "metadata": {},
   "outputs": [
    {
     "name": "stdout",
     "output_type": "stream",
     "text": [
      "\n",
      " Min-Max Normalized Data (0 to 1):\n",
      "      Record ID       age\n",
      "0  0.000000e+00  0.000427\n",
      "1  3.410871e-08  0.000427\n",
      "2  9.891527e-07  0.000610\n",
      "3  6.934301e-05  0.000534\n",
      "4  6.937712e-05  0.000473\n",
      "\n",
      " Z-score Standardized Data:\n",
      "   Record ID       age\n",
      "0  -1.602090 -0.037634\n",
      "1  -1.602090 -0.037634\n",
      "2  -1.602086 -0.027499\n",
      "3  -1.601822 -0.031722\n",
      "4  -1.601822 -0.035100\n"
     ]
    }
   ],
   "source": [
    "import pandas as pd\n",
    "import numpy as np\n",
    "from sklearn.preprocessing import MinMaxScaler, StandardScaler\n",
    "\n",
    "df = pd.read_excel(\"Lab Session Data.xlsx\", sheet_name=\"thyroid0387_UCI\")\n",
    "\n",
    "numeric_data = df.select_dtypes(include=[np.number])\n",
    "\n",
    "clean_data = numeric_data.dropna()\n",
    "\n",
    "minmax_scaler = MinMaxScaler()\n",
    "minmax_normalized = pd.DataFrame(\n",
    "    minmax_scaler.fit_transform(clean_data),\n",
    "    columns=clean_data.columns\n",
    ")\n",
    "print(\"\\n Min-Max Normalized Data (0 to 1):\")\n",
    "print(minmax_normalized.head())\n",
    "\n",
    "zscore_scaler = StandardScaler()\n",
    "zscore_normalized = pd.DataFrame(\n",
    "    zscore_scaler.fit_transform(clean_data),\n",
    "    columns=clean_data.columns\n",
    ")\n",
    "print(\"\\n Z-score Standardized Data:\")\n",
    "print(zscore_normalized.head())\n",
    "\n"
   ]
  },
  {
   "cell_type": "code",
   "execution_count": null,
   "id": "948384a7",
   "metadata": {},
   "outputs": [],
   "source": []
  }
 ],
 "metadata": {
  "kernelspec": {
   "display_name": "Python 3 (ipykernel)",
   "language": "python",
   "name": "python3"
  },
  "language_info": {
   "codemirror_mode": {
    "name": "ipython",
    "version": 3
   },
   "file_extension": ".py",
   "mimetype": "text/x-python",
   "name": "python",
   "nbconvert_exporter": "python",
   "pygments_lexer": "ipython3",
   "version": "3.11.5"
  }
 },
 "nbformat": 4,
 "nbformat_minor": 5
}
