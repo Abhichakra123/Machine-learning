{
  "nbformat": 4,
  "nbformat_minor": 0,
  "metadata": {
    "colab": {
      "provenance": []
    },
    "kernelspec": {
      "name": "python3",
      "display_name": "Python 3"
    },
    "language_info": {
      "name": "python"
    }
  },
  "cells": [
    {
      "cell_type": "code",
      "execution_count": 9,
      "metadata": {
        "colab": {
          "base_uri": "https://localhost:8080/"
        },
        "id": "phaPzTd6L9O6",
        "outputId": "6a50ad02-2545-4fc0-c5c5-37fbfa891b67"
      },
      "outputs": [
        {
          "output_type": "stream",
          "name": "stdout",
          "text": [
            "Accuracy: 1.0\n",
            "              precision    recall  f1-score   support\n",
            "\n",
            "           0       1.00      1.00      1.00        80\n",
            "           1       1.00      1.00      1.00       304\n",
            "\n",
            "    accuracy                           1.00       384\n",
            "   macro avg       1.00      1.00      1.00       384\n",
            "weighted avg       1.00      1.00      1.00       384\n",
            "\n",
            "[[ 80   0]\n",
            " [  0 304]]\n"
          ]
        }
      ],
      "source": [
        "#q1\n",
        "##q1\n",
        "import pandas as pd\n",
        "from sklearn.model_selection import train_test_split\n",
        "from sklearn.ensemble import RandomForestClassifier, GradientBoostingClassifier, StackingClassifier\n",
        "from sklearn.svm import SVC\n",
        "from sklearn.linear_model import LogisticRegression\n",
        "from sklearn.metrics import accuracy_score, classification_report, confusion_matrix\n",
        "\n",
        "df = pd.read_csv(r\"/content/RFMiD_Training_Labels.csv\")\n",
        "X = df.drop(columns=[c for c in [\"ID\", \"Disease_Risk\"] if c in df.columns])\n",
        "y = df[\"Disease_Risk\"]\n",
        "X_train, X_test, y_train, y_test = train_test_split(X, y, test_size=0.2, random_state=42, stratify=y)\n",
        "base_models = [(\"rf\", RandomForestClassifier(n_estimators=100, random_state=42)),\n",
        "               (\"gb\", GradientBoostingClassifier(random_state=42)),\n",
        "               (\"svc\", SVC(probability=True, random_state=42))]\n",
        "meta_model = LogisticRegression()\n",
        "stacking = StackingClassifier(estimators=base_models, final_estimator=meta_model, cv=5)\n",
        "stacking.fit(X_train, y_train)\n",
        "y_pred = stacking.predict(X_test)\n",
        "print(\"Accuracy:\", accuracy_score(y_test, y_pred))\n",
        "print(classification_report(y_test, y_pred))\n",
        "print(confusion_matrix(y_test, y_pred))\n"
      ]
    },
    {
      "cell_type": "code",
      "source": [
        "#q2\n",
        "import pandas as pd\n",
        "from sklearn.model_selection import train_test_split\n",
        "from sklearn.preprocessing import StandardScaler\n",
        "from sklearn.pipeline import Pipeline\n",
        "from sklearn.ensemble import RandomForestClassifier, GradientBoostingClassifier, StackingClassifier\n",
        "from sklearn.svm import SVC\n",
        "from sklearn.linear_model import LogisticRegression\n",
        "from sklearn.metrics import accuracy_score\n",
        "\n",
        "df = pd.read_csv(r\"/content/RFMiD_Training_Labels.csv\")\n",
        "X = df.drop(columns=[c for c in [\"ID\", \"Disease_Risk\"] if c in df.columns])\n",
        "y = df[\"Disease_Risk\"]\n",
        "X_train, X_test, y_train, y_test = train_test_split(X, y, test_size=0.2, random_state=42, stratify=y)\n",
        "base_models = [(\"rf\", RandomForestClassifier(n_estimators=100, random_state=42)),\n",
        "               (\"gb\", GradientBoostingClassifier(random_state=42)),\n",
        "               (\"svc\", SVC(probability=True, random_state=42))]\n",
        "meta_model = LogisticRegression()\n",
        "stacking = StackingClassifier(estimators=base_models, final_estimator=meta_model, cv=5)\n",
        "pipeline = Pipeline([(\"scaler\", StandardScaler()), (\"stack\", stacking)])\n",
        "pipeline.fit(X_train, y_train)\n",
        "y_pred = pipeline.predict(X_test)\n",
        "print(\"Accuracy:\", accuracy_score(y_test, y_pred))\n"
      ],
      "metadata": {
        "colab": {
          "base_uri": "https://localhost:8080/"
        },
        "id": "ltKGU_AwMgG2",
        "outputId": "b9a49c78-f7e7-4190-9742-0ff011f02fe2"
      },
      "execution_count": 6,
      "outputs": [
        {
          "output_type": "stream",
          "name": "stdout",
          "text": [
            "Accuracy: 1.0\n"
          ]
        }
      ]
    },
    {
      "cell_type": "code",
      "source": [
        "#q3\n",
        "import pandas as pd\n",
        "from sklearn.model_selection import train_test_split\n",
        "from sklearn.preprocessing import StandardScaler\n",
        "from sklearn.pipeline import Pipeline\n",
        "from sklearn.ensemble import RandomForestClassifier, GradientBoostingClassifier, StackingClassifier\n",
        "from sklearn.svm import SVC\n",
        "from sklearn.linear_model import LogisticRegression\n",
        "from lime.lime_tabular import LimeTabularExplainer\n",
        "\n",
        "df = pd.read_csv(r\"/content/RFMiD_Training_Labels.csv\")\n",
        "X = df.drop(columns=[c for c in [\"ID\", \"Disease_Risk\"] if c in df.columns])\n",
        "y = df[\"Disease_Risk\"]\n",
        "X_train, X_test, y_train, y_test = train_test_split(X, y, test_size=0.2, random_state=42, stratify=y)\n",
        "base_models = [(\"rf\", RandomForestClassifier(n_estimators=100, random_state=42)),\n",
        "               (\"gb\", GradientBoostingClassifier(random_state=42)),\n",
        "               (\"svc\", SVC(probability=True, random_state=42))]\n",
        "meta_model = LogisticRegression()\n",
        "stacking = StackingClassifier(estimators=base_models, final_estimator=meta_model, cv=5)\n",
        "pipeline = Pipeline([(\"scaler\", StandardScaler()), (\"stack\", stacking)])\n",
        "pipeline.fit(X_train, y_train)\n",
        "explainer = LimeTabularExplainer(training_data=X_train.values,\n",
        "                                 feature_names=X.columns.tolist(),\n",
        "                                 class_names=[str(c) for c in pipeline.classes_],\n",
        "                                 mode=\"classification\")\n",
        "sample = X_test.iloc[0].values\n",
        "exp = explainer.explain_instance(sample, pipeline.predict_proba, num_features=10)\n",
        "print(exp.as_list())\n"
      ],
      "metadata": {
        "colab": {
          "base_uri": "https://localhost:8080/"
        },
        "id": "SxBAxRnTMqgE",
        "outputId": "ea8bb59a-e3c4-443f-823d-78f9f3af4e05"
      },
      "execution_count": 7,
      "outputs": [
        {
          "output_type": "stream",
          "name": "stdout",
          "text": [
            "[('DR <= 0.00', -0.4121296794615103), ('MH <= 0.00', -0.3961986415050334), ('ERM <= 0.00', -0.36461508703830997), ('CF <= 0.00', -0.34705904947821964), ('RT <= 0.00', -0.32906321136578215), ('PRH <= 0.00', -0.21591319200452982), ('BRAO <= 0.00', -0.215510819431322), ('TD <= 0.00', -0.17567253481267475), ('HPED <= 0.00', -0.17045765426719678), ('CWS <= 0.00', -0.11158952357316708)]\n"
          ]
        },
        {
          "output_type": "stream",
          "name": "stderr",
          "text": [
            "/usr/local/lib/python3.12/dist-packages/sklearn/utils/validation.py:2739: UserWarning: X does not have valid feature names, but StandardScaler was fitted with feature names\n",
            "  warnings.warn(\n"
          ]
        }
      ]
    }
  ]
}