{
 "cells": [
  {
   "cell_type": "code",
   "execution_count": 6,
   "id": "c16235db",
   "metadata": {},
   "outputs": [
    {
     "name": "stdout",
     "output_type": "stream",
     "text": [
      "cos formula for purchase data sheet is: 1.0000\n"
     ]
    }
   ],
   "source": [
    "import pandas as pd\n",
    "import numpy as np\n",
    "\n",
    "# first of all ...we need to load the data\n",
    "df = pd.read_excel(\"Lab Session Data.xlsx\", sheet_name=\"thyroid0387_UCI\")\n",
    "\n",
    "numeric_data = df.select_dtypes(include=[np.number]).dropna()\n",
    "\n",
    "# this is used for checking that there are two rows are not or else condition\n",
    "if numeric_data.shape[0] >= 2:\n",
    "    A = numeric_data.iloc[0].values\n",
    "    B = numeric_data.iloc[1].values\n",
    "    dot_product = np.dot(A, B)\n",
    "    mod_a = np.linalg.norm(A)\n",
    "    mod_b = np.linalg.norm(B)\n",
    "\n",
    "    if mod_a != 0 and mod_b != 0:\n",
    "        cosine_similarity = dot_product / (mod_a * mod_b)\n",
    "    else:\n",
    "        cosine_similarity = 0\n",
    "\n",
    "    print(f\"cos formula for purchase data sheet is: {cosine_similarity:.4f}\")\n",
    "else:\n",
    "    print(\"Not enough valid numeric rows to compute .\")\n"
   ]
  },
  {
   "cell_type": "code",
   "execution_count": null,
   "id": "a64d5d6d",
   "metadata": {},
   "outputs": [],
   "source": []
  }
 ],
 "metadata": {
  "kernelspec": {
   "display_name": "Python 3 (ipykernel)",
   "language": "python",
   "name": "python3"
  },
  "language_info": {
   "codemirror_mode": {
    "name": "ipython",
    "version": 3
   },
   "file_extension": ".py",
   "mimetype": "text/x-python",
   "name": "python",
   "nbconvert_exporter": "python",
   "pygments_lexer": "ipython3",
   "version": "3.11.5"
  }
 },
 "nbformat": 4,
 "nbformat_minor": 5
}
