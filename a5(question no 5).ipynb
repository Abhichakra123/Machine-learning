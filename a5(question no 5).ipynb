{
 "cells": [
  {
   "cell_type": "code",
   "execution_count": 4,
   "id": "fe67ffa5",
   "metadata": {},
   "outputs": [
    {
     "name": "stdout",
     "output_type": "stream",
     "text": [
      "f11: 0, f10: 0, f01: 0, f00: 0\n",
      "jc answer is : 0.0000\n",
      "Simple Matching Coefficient is: 0.0000\n"
     ]
    }
   ],
   "source": [
    "import pandas as pd\n",
    "\n",
    "data = pd.read_excel(\"Lab Session Data.xlsx\", sheet_name=\"thyroid0387_UCI\")\n",
    "\n",
    "\n",
    "bincol = [col for col in data.columns if set(data[col].dropna().unique()).issubset({0, 1})]\n",
    "bindata = data[bincol]\n",
    "\n",
    "vector1 = bindata.iloc[0]\n",
    "vector2 = bindata.iloc[1]\n",
    "\n",
    "f11 = f10 = f01 = f00 = 0\n",
    "\n",
    "for value1, value2 in zip(vector1, vector2):\n",
    "    if value1 == 1 and value2 == 1:\n",
    "        f11 += 1\n",
    "    elif value1 == 1 and value2 == 0:\n",
    "        f10 += 1\n",
    "    elif value1 == 0 and value2 == 1:\n",
    "        f01 += 1\n",
    "    elif value1 == 0 and value2 == 0:\n",
    "        f00 += 1\n",
    "\n",
    "jc = f11 / (f10 + f01 + f11) if (f10 + f01 + f11) != 0 else 0\n",
    "smc = (f11 + f00) / (f00 + f01 + f10 + f11) if (f00 + f01 + f10 + f11) != 0 else 0\n",
    "\n",
    "print(f\"f11: {f11}, f10: {f10}, f01: {f01}, f00: {f00}\")\n",
    "print(f\"jc answer is : {jc:.4f}\")\n",
    "print(f\"Simple Matching Coefficient is: {smc:.4f}\")"
   ]
  },
  {
   "cell_type": "code",
   "execution_count": null,
   "id": "fba4fc28",
   "metadata": {},
   "outputs": [],
   "source": []
  },
  {
   "cell_type": "code",
   "execution_count": null,
   "id": "5e9bd4c1",
   "metadata": {},
   "outputs": [],
   "source": []
  }
 ],
 "metadata": {
  "kernelspec": {
   "display_name": "Python 3 (ipykernel)",
   "language": "python",
   "name": "python3"
  },
  "language_info": {
   "codemirror_mode": {
    "name": "ipython",
    "version": 3
   },
   "file_extension": ".py",
   "mimetype": "text/x-python",
   "name": "python",
   "nbconvert_exporter": "python",
   "pygments_lexer": "ipython3",
   "version": "3.11.5"
  }
 },
 "nbformat": 4,
 "nbformat_minor": 5
}
